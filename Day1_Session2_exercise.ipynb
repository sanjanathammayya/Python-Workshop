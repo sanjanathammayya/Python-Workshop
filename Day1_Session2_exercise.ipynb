{
  "nbformat": 4,
  "nbformat_minor": 0,
  "metadata": {
    "colab": {
      "name": "Day1_Session2.ipynb",
      "provenance": [],
      "authorship_tag": "ABX9TyOFXSNRn2qPemlhJnf10wzP",
      "include_colab_link": true
    },
    "kernelspec": {
      "name": "python3",
      "display_name": "Python 3"
    }
  },
  "cells": [
    {
      "cell_type": "markdown",
      "metadata": {
        "id": "view-in-github",
        "colab_type": "text"
      },
      "source": [
        "<a href=\"https://colab.research.google.com/github/sanjanathammayya/Python-Workshop/blob/master/Day1_Session2.ipynb\" target=\"_parent\"><img src=\"https://colab.research.google.com/assets/colab-badge.svg\" alt=\"Open In Colab\"/></a>"
      ]
    },
    {
      "cell_type": "code",
      "metadata": {
        "id": "HHUdkUuT2pxZ",
        "colab_type": "code",
        "colab": {}
      },
      "source": [
        ""
      ],
      "execution_count": null,
      "outputs": []
    },
    {
      "cell_type": "markdown",
      "metadata": {
        "id": "twupclyN38Sx",
        "colab_type": "text"
      },
      "source": [
        "#1. Write a program to print the triangle \n",
        "#i/p  4\n",
        "\n",
        "#1\n",
        "#2    3\n",
        "#3    4   5\n",
        "#4    5   6   7\n",
        "\n"
      ]
    },
    {
      "cell_type": "markdown",
      "metadata": {
        "id": "w_QgXyx14a6x",
        "colab_type": "text"
      },
      "source": [
        ""
      ]
    },
    {
      "cell_type": "code",
      "metadata": {
        "id": "J5kmU8OK4NGy",
        "colab_type": "code",
        "colab": {
          "base_uri": "https://localhost:8080/",
          "height": 101
        },
        "outputId": "66b295ca-9b14-470f-9274-297058b61e45"
      },
      "source": [
        "n=4;\n",
        "for i in range(5):\n",
        "  k=i\n",
        "  for j in range(k):\n",
        "      print (k, end=\" \")\n",
        "      k=k+1\n",
        "  print('')"
      ],
      "execution_count": 1,
      "outputs": [
        {
          "output_type": "stream",
          "text": [
            "\n",
            "1 \n",
            "2 3 \n",
            "3 4 5 \n",
            "4 5 6 7 \n"
          ],
          "name": "stdout"
        }
      ]
    },
    {
      "cell_type": "markdown",
      "metadata": {
        "id": "8X_w2vFu4c4J",
        "colab_type": "text"
      },
      "source": [
        "#2. Enter number 4\n",
        "\n",
        "#*\n",
        "#* *\n",
        "#* * *\n",
        "#* * * *\n",
        "\n"
      ]
    },
    {
      "cell_type": "code",
      "metadata": {
        "id": "t6npUj7q4sTx",
        "colab_type": "code",
        "colab": {
          "base_uri": "https://localhost:8080/",
          "height": 101
        },
        "outputId": "e344bb15-7a45-4c8e-c7ff-7ed288219fb8"
      },
      "source": [
        "n=5;\n",
        "for i in range(n):\n",
        "    for j in range(i):\n",
        "        print ('* ', end=\"\")\n",
        "    print('')"
      ],
      "execution_count": 2,
      "outputs": [
        {
          "output_type": "stream",
          "text": [
            "\n",
            "* \n",
            "* * \n",
            "* * * \n",
            "* * * * \n"
          ],
          "name": "stdout"
        }
      ]
    },
    {
      "cell_type": "markdown",
      "metadata": {
        "id": "PJpONs5_41o2",
        "colab_type": "text"
      },
      "source": [
        "#3. Enter number 5\n",
        "\n",
        "#5\n",
        "#4 5\n",
        "#3 4 5\n",
        "#2 3 4 5\n",
        "#1 2 3 4 5\n"
      ]
    },
    {
      "cell_type": "code",
      "metadata": {
        "id": "lYXEr0JD5V3K",
        "colab_type": "code",
        "colab": {
          "base_uri": "https://localhost:8080/",
          "height": 101
        },
        "outputId": "23a6b00a-0a5c-4b45-fa78-a3e966cd945b"
      },
      "source": [
        "n=5;\n",
        "for i in range(n,0,-1):\n",
        "  for j in range(i,n+1):\n",
        "      print (j, end=' ')\n",
        "  print('')"
      ],
      "execution_count": 3,
      "outputs": [
        {
          "output_type": "stream",
          "text": [
            "5 \n",
            "4 5 \n",
            "3 4 5 \n",
            "2 3 4 5 \n",
            "1 2 3 4 5 \n"
          ],
          "name": "stdout"
        }
      ]
    },
    {
      "cell_type": "markdown",
      "metadata": {
        "id": "a4FOAbEg5b2A",
        "colab_type": "text"
      },
      "source": [
        "#4. Enter number 5\n",
        "\n",
        "#5 4 3 2 1\n",
        "#4 3 2 1\n",
        "#3 2 1\n",
        "#2 1\n",
        "#1\n"
      ]
    },
    {
      "cell_type": "code",
      "metadata": {
        "id": "qlnR0UrK5rCY",
        "colab_type": "code",
        "colab": {
          "base_uri": "https://localhost:8080/",
          "height": 118
        },
        "outputId": "f14417ac-a43c-49d0-fcfc-117cf722c386"
      },
      "source": [
        "n=5\n",
        "for i in range(0,n+1):\n",
        "  for j in range(n-i,0,-1):\n",
        "      print(j,end=\" \")\n",
        "  print()"
      ],
      "execution_count": 4,
      "outputs": [
        {
          "output_type": "stream",
          "text": [
            "5 4 3 2 1 \n",
            "4 3 2 1 \n",
            "3 2 1 \n",
            "2 1 \n",
            "1 \n",
            "\n"
          ],
          "name": "stdout"
        }
      ]
    },
    {
      "cell_type": "markdown",
      "metadata": {
        "id": "ZGDiFnkp55lm",
        "colab_type": "text"
      },
      "source": [
        "#5. Enter number 4\n",
        "\n",
        "#1 2 3 4\n",
        "#2 3 4\n",
        "#3 4\n",
        "#4\n",
        "#3 4\n",
        "#2 3 4\n",
        "#1 2 3 4\n"
      ]
    },
    {
      "cell_type": "code",
      "metadata": {
        "id": "gE_ewmEz6UME",
        "colab_type": "code",
        "colab": {
          "base_uri": "https://localhost:8080/",
          "height": 151
        },
        "outputId": "eaf57e9e-d41e-47ca-ce73-e4250cd63acb"
      },
      "source": [
        "\n",
        "n=4\n",
        "for i in range(0,n+1,1):\n",
        "  for j in range(i+1,n+1,1):\n",
        "    print(j,end=' ')\n",
        "  print()\n",
        "for i in range(4,n-3,-1):\n",
        "  for j in range(i-1,n+1,1):\n",
        "    print(j,end=' ')\n",
        "  print()"
      ],
      "execution_count": 5,
      "outputs": [
        {
          "output_type": "stream",
          "text": [
            "1 2 3 4 \n",
            "2 3 4 \n",
            "3 4 \n",
            "4 \n",
            "\n",
            "3 4 \n",
            "2 3 4 \n",
            "1 2 3 4 \n"
          ],
          "name": "stdout"
        }
      ]
    },
    {
      "cell_type": "markdown",
      "metadata": {
        "id": "arZcNUAh6lUr",
        "colab_type": "text"
      },
      "source": [
        "#6)Find the length of the string without using len function"
      ]
    },
    {
      "cell_type": "code",
      "metadata": {
        "id": "0sNbe3co6nZy",
        "colab_type": "code",
        "colab": {
          "base_uri": "https://localhost:8080/",
          "height": 50
        },
        "outputId": "a699f2f6-f065-4474-9245-6cb31bb8cc3b"
      },
      "source": [
        "str = input(\"Enter a string: \")\n",
        "counter = 0\n",
        "for s in str:\n",
        "      counter = counter+1\n",
        "print(\"Length of the input string is:\", counter)"
      ],
      "execution_count": 6,
      "outputs": [
        {
          "output_type": "stream",
          "text": [
            "Enter a string: aiet\n",
            "Length of the input string is: 4\n"
          ],
          "name": "stdout"
        }
      ]
    },
    {
      "cell_type": "markdown",
      "metadata": {
        "id": "GnhqdBYn6xrT",
        "colab_type": "text"
      },
      "source": [
        "#7. Find the no of words and characters in a string"
      ]
    },
    {
      "cell_type": "code",
      "metadata": {
        "id": "07fiouOu623p",
        "colab_type": "code",
        "colab": {
          "base_uri": "https://localhost:8080/",
          "height": 101
        },
        "outputId": "b121b6fc-3f2c-42d7-fae2-c1665406408e"
      },
      "source": [
        "string=input(\"Enter string:\")\n",
        "char=0\n",
        "word=1\n",
        "for i in string:\n",
        "      char=char+1\n",
        "      if(i==' '):\n",
        "            word=word+1\n",
        "print(\"Number of words in the string:\")\n",
        "print(word)\n",
        "print(\"Number of characters in the string:\")\n",
        "print(char)"
      ],
      "execution_count": 7,
      "outputs": [
        {
          "output_type": "stream",
          "text": [
            "Enter string:i am in class\n",
            "Number of words in the string:\n",
            "4\n",
            "Number of characters in the string:\n",
            "13\n"
          ],
          "name": "stdout"
        }
      ]
    },
    {
      "cell_type": "markdown",
      "metadata": {
        "id": "aJ5G-hWr7Dqc",
        "colab_type": "text"
      },
      "source": [
        "#8 Find the no of occurrences of a word in a string"
      ]
    },
    {
      "cell_type": "code",
      "metadata": {
        "id": "v9YUPqZe7F_q",
        "colab_type": "code",
        "colab": {
          "base_uri": "https://localhost:8080/",
          "height": 67
        },
        "outputId": "55413a34-25a9-41f0-80b6-f13747d7f974"
      },
      "source": [
        "def countOccurences(str, word): \n",
        "    a = str.split(\" \") \n",
        "    count = 0\n",
        "    for i in range(0, len(a)):  \n",
        "        if (word == a[i]): \n",
        "           count = count + 1\n",
        "             \n",
        "    return count        \n",
        "str =input(\"Enter the String\")\n",
        "word =input(\"Enter the word\")\n",
        "print(countOccurences(str, word))"
      ],
      "execution_count": 8,
      "outputs": [
        {
          "output_type": "stream",
          "text": [
            "Enter the Stringgeeks for geeks\n",
            "Enter the word2\n",
            "0\n"
          ],
          "name": "stdout"
        }
      ]
    }
  ]
}
